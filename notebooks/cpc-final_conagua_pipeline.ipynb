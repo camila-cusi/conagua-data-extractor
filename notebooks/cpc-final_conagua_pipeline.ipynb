{
 "cells": [
  {
   "cell_type": "markdown",
   "metadata": {},
   "source": [
    "# CONAGUA Pipeline Ejemplo\n",
    "AUTHOR: @camila-cusi // Camila Cusicaqnui"
   ]
  },
  {
   "cell_type": "code",
   "execution_count": null,
   "metadata": {},
   "outputs": [],
   "source": [
    "cd ..\n"
   ]
  },
  {
   "cell_type": "code",
   "execution_count": 2,
   "metadata": {},
   "outputs": [],
   "source": [
    "%load_ext autoreload\n",
    "%autoreload 2\n"
   ]
  },
  {
   "cell_type": "code",
   "execution_count": 3,
   "metadata": {},
   "outputs": [],
   "source": [
    "from src.conagua_datos.load.read_conagua import ReadConaguaDatos"
   ]
  },
  {
   "cell_type": "code",
   "execution_count": 4,
   "metadata": {},
   "outputs": [
    {
     "name": "stderr",
     "output_type": "stream",
     "text": [
      "INFO:root:Downloading data for lluvia\n",
      "INFO:root:Trying URL: https://smn.conagua.gob.mx/tools/RESOURCES/com_archivos_pronosticos_climaticos/03-MAM-Pronostico-de-Marzo-2025-Lluvia.zip\n",
      "INFO:root:Successfully downloaded pronostic for 3/2025\n",
      "INFO:root:Download for lluvia successful!\n"
     ]
    }
   ],
   "source": [
    "conagua_reader = ReadConaguaDatos(start_date=\"2015-01-01\", end_date=\"2025-05-01\", include_pronostico=True)\n",
    "precip_df = conagua_reader.get_conagua_df()"
   ]
  },
  {
   "cell_type": "code",
   "execution_count": 5,
   "metadata": {},
   "outputs": [
    {
     "name": "stderr",
     "output_type": "stream",
     "text": [
      "INFO:root:Downloading data for temp\n",
      "INFO:root:Download for temp successful!\n"
     ]
    }
   ],
   "source": [
    "conagua_reader = ReadConaguaDatos(start_date=\"2015-01-01\", end_date=\"2025-05-01\", data_type=\"temp\")\n",
    "temp_df = conagua_reader.get_conagua_df()"
   ]
  }
 ],
 "metadata": {
  "kernelspec": {
   "display_name": "conagua_env",
   "language": "python",
   "name": "python3"
  },
  "language_info": {
   "codemirror_mode": {
    "name": "ipython",
    "version": 3
   },
   "file_extension": ".py",
   "mimetype": "text/x-python",
   "name": "python",
   "nbconvert_exporter": "python",
   "pygments_lexer": "ipython3",
   "version": "3.13.2"
  }
 },
 "nbformat": 4,
 "nbformat_minor": 2
}
